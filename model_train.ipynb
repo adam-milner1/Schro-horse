{
 "cells": [
  {
   "cell_type": "code",
   "execution_count": 1,
   "id": "a297ea81",
   "metadata": {},
   "outputs": [
    {
     "name": "stdout",
     "output_type": "stream",
     "text": [
      "2.16.2\n",
      "GPU devices: [PhysicalDevice(name='/physical_device:GPU:0', device_type='GPU')]\n"
     ]
    }
   ],
   "source": [
    "import tensorflow as tf\n",
    "import numpy as np\n",
    "import matplotlib.pyplot as plt\n",
    "import os\n",
    "from tensorflow.keras import (\n",
    "    layers,\n",
    "    models,\n",
    "    callbacks,\n",
    "    losses,\n",
    "    utils,\n",
    "    metrics,\n",
    "    optimizers,\n",
    ")\n",
    "\n",
    "from functions.model2 import GAN\n",
    "import datetime\n",
    "import json\n",
    "from functions.data_preperation import process_model_data\n",
    "from functions.q_generator import two_qubit_circuit_tickers"
   ]
  },
  {
   "cell_type": "code",
   "execution_count": 2,
   "id": "7b86f03d",
   "metadata": {},
   "outputs": [],
   "source": [
    "def shuffle_data(feature_data, real_data):\n",
    "    # feature_data: numpy array\n",
    "    # real_data: tf.Tensor\n",
    "\n",
    "    # Make sure we have the same number of samples\n",
    "    assert feature_data.shape[0] == real_data.shape[0], \"Mismatched number of samples\"\n",
    "\n",
    "    # Generate shuffled indices\n",
    "    indices = np.arange(feature_data.shape[0])\n",
    "    np.random.shuffle(indices)\n",
    "\n",
    "    # Apply to both\n",
    "    feature_shuffled = feature_data[indices]\n",
    "    real_shuffled = tf.gather(real_data, indices)\n",
    "\n",
    "    return feature_shuffled, real_shuffled"
   ]
  },
  {
   "cell_type": "code",
   "execution_count": 3,
   "id": "389bc9b7",
   "metadata": {},
   "outputs": [
    {
     "name": "stderr",
     "output_type": "stream",
     "text": [
      "2025-10-01 23:22:35.539329: I metal_plugin/src/device/metal_device.cc:1154] Metal device set to: Apple M2 Pro\n",
      "2025-10-01 23:22:35.539355: I metal_plugin/src/device/metal_device.cc:296] systemMemory: 16.00 GB\n",
      "2025-10-01 23:22:35.539363: I metal_plugin/src/device/metal_device.cc:313] maxCacheSize: 5.33 GB\n",
      "2025-10-01 23:22:35.539382: I tensorflow/core/common_runtime/pluggable_device/pluggable_device_factory.cc:305] Could not identify NUMA node of platform GPU ID 0, defaulting to 0. Your kernel may not have been built with NUMA support.\n",
      "2025-10-01 23:22:35.539393: I tensorflow/core/common_runtime/pluggable_device/pluggable_device_factory.cc:271] Created TensorFlow device (/job:localhost/replica:0/task:0/device:GPU:0 with 0 MB memory) -> physical PluggableDevice (device: 0, name: METAL, pci bus id: <undefined>)\n"
     ]
    }
   ],
   "source": [
    "DISCRIMINATOR_STEPS = 5\n",
    "DISCRIMINATOR_LAYER_MULTIPLIER =2\n",
    "GP_WEIGHT = 10\n",
    "LEARNING_RATE = 1e-5\n",
    "ADAM_BETA_1 = 0.5\n",
    "ADAM_BETA_2 = 0.9\n",
    "BATCH_SIZE = 32\n",
    "EPOCHS = 100\n",
    "D_OPTIMIZER = optimizers.Adam(learning_rate=LEARNING_RATE, beta_1 = ADAM_BETA_1, beta_2 = ADAM_BETA_2)\n",
    "#G_OPTIMIZER = optimizers.Adam(learning_rate=LEARNING_RATE, beta_1 = ADAM_BETA_1, beta_2 = ADAM_BETA_2)"
   ]
  },
  {
   "cell_type": "markdown",
   "id": "2b30d7fe",
   "metadata": {},
   "source": [
    "## Load data"
   ]
  },
  {
   "cell_type": "code",
   "execution_count": 4,
   "id": "7bbc8f14",
   "metadata": {},
   "outputs": [],
   "source": [
    "targets = [\"OC_next\", \"CO_next\"]\n",
    "features = [\"Close\", \"High\", \"Low\", \"Open\", \"Volume\", \"MACD\", \"Signal_Line\", \"EMA_20\"]\n",
    "tickers = ['GOOG','AAPL','MSFT','AMZN']"
   ]
  },
  {
   "cell_type": "code",
   "execution_count": 5,
   "id": "792a7581",
   "metadata": {},
   "outputs": [
    {
     "name": "stderr",
     "output_type": "stream",
     "text": [
      "/Users/a01milner/Documents/Schro-horse/functions/data_preperation.py:16: FutureWarning: YF.download() has changed argument auto_adjust default to True\n",
      "  data = yf.download(tickers, start=start_date, end=end_date)\n",
      "[*********************100%***********************]  1 of 1 completed\n",
      "/Users/a01milner/Documents/Schro-horse/functions/data_preperation.py:16: FutureWarning: YF.download() has changed argument auto_adjust default to True\n",
      "  data = yf.download(tickers, start=start_date, end=end_date)\n",
      "[*********************100%***********************]  1 of 1 completed\n",
      "/Users/a01milner/Documents/Schro-horse/functions/data_preperation.py:16: FutureWarning: YF.download() has changed argument auto_adjust default to True\n",
      "  data = yf.download(tickers, start=start_date, end=end_date)\n",
      "[*********************100%***********************]  1 of 1 completed\n",
      "/Users/a01milner/Documents/Schro-horse/functions/data_preperation.py:16: FutureWarning: YF.download() has changed argument auto_adjust default to True\n",
      "  data = yf.download(tickers, start=start_date, end=end_date)\n",
      "[*********************100%***********************]  1 of 1 completed\n"
     ]
    },
    {
     "name": "stdout",
     "output_type": "stream",
     "text": [
      "(1003, 32) (1003, 8)\n",
      "(array([[-3.13310467e+00, -3.11741191e+00, -3.11583777e+00, ...,\n",
      "         6.20038339e-01,  6.00531850e-01, -1.51307313e-01],\n",
      "       [-3.08606044e+00, -3.10890404e+00, -3.09279204e+00, ...,\n",
      "         7.09590949e-01,  6.21241836e-01, -1.36132334e-01],\n",
      "       [-3.14159265e+00, -3.11136665e+00, -3.11985958e+00, ...,\n",
      "         6.58959191e-01,  6.26100696e-01, -1.42698600e-01],\n",
      "       ...,\n",
      "       [-4.90562421e-02, -4.52380955e-02,  1.30597042e-02, ...,\n",
      "         1.91863935e+00,  1.63257565e+00,  1.08883922e+00],\n",
      "       [-2.03514934e-02, -1.55881916e-03,  3.81509352e-02, ...,\n",
      "         1.89619888e+00,  1.72129247e+00,  1.11352183e+00],\n",
      "       [ 2.95410038e-02,  4.84873035e-02,  4.95719794e-02, ...,\n",
      "         1.78707349e+00,  1.76702954e+00,  1.12280571e+00]]), <tf.Tensor: shape=(1003, 8), dtype=float32, numpy=\n",
      "array([[ 0.05740945, -0.2496236 , -0.577434  , ..., -0.79388404,\n",
      "         0.08670791,  0.15757483],\n",
      "       [-0.41105044, -0.4247583 , -1.3406694 , ..., -1.0326438 ,\n",
      "        -1.0219789 , -0.33688918],\n",
      "       [-0.2084784 , -0.22023228, -0.8943331 , ..., -0.78282464,\n",
      "         0.15534554,  0.2851415 ],\n",
      "       ...,\n",
      "       [-0.43247822,  0.06844365, -0.92927766, ..., -0.604464  ,\n",
      "        -1.0028756 ,  0.2901723 ],\n",
      "       [ 0.14515525, -0.3090546 , -1.0647765 , ..., -0.86879534,\n",
      "        -0.9204727 , -0.11589155],\n",
      "       [ 0.37576523, -0.4226881 , -0.51212966, ..., -0.8707027 ,\n",
      "        -0.5646452 , -0.17877562]], dtype=float32)>)\n"
     ]
    }
   ],
   "source": [
    "train_data = process_model_data(targets, features, tickers) #feature_data, target_data\n",
    "\n",
    "print(train_data)"
   ]
  },
  {
   "cell_type": "markdown",
   "id": "d22307b1",
   "metadata": {},
   "source": [
    "## Load generator from Qiskit"
   ]
  },
  {
   "cell_type": "code",
   "execution_count": 6,
   "id": "b53852cb",
   "metadata": {},
   "outputs": [
    {
     "name": "stdout",
     "output_type": "stream",
     "text": [
      "80\n"
     ]
    },
    {
     "data": {
      "image/png": "[encoded data removed]",
      "text/plain": [
       "<Figure size 1625.27x702.333 with 1 Axes>"
      ]
     },
     "execution_count": 6,
     "metadata": {},
     "output_type": "execute_result"
    }
   ],
   "source": [
    "qc= two_qubit_circuit_tickers(tickers)\n",
    "print(len(list(qc.parameters)))\n",
    "qc.draw('mpl')"
   ]
  },
  {
   "cell_type": "code",
   "execution_count": 7,
   "id": "70e98682",
   "metadata": {},
   "outputs": [
    {
     "name": "stdout",
     "output_type": "stream",
     "text": [
      "Trial 2Q Depth: 10\n"
     ]
    },
    {
     "name": "stderr",
     "output_type": "stream",
     "text": [
      "/Users/a01milner/Documents/Schro-horse/.venv/lib/python3.10/site-packages/keras/src/layers/activations/leaky_relu.py:41: UserWarning: Argument `alpha` is deprecated. Use `negative_slope` instead.\n",
      "  warnings.warn(\n"
     ]
    }
   ],
   "source": [
    "qgan = GAN(\n",
    "    discriminator_steps= DISCRIMINATOR_STEPS,\n",
    "    gp_weight= GP_WEIGHT,\n",
    "    n_tickers= len(tickers),\n",
    "    n_features= len(features),\n",
    "    n_outputs= len(targets),\n",
    "    generator_qiskit=qc,\n",
    "    discriminator_layer_multiplier=DISCRIMINATOR_LAYER_MULTIPLIER,\n",
    "    on_hardware= False,\n",
    "    batch_size= BATCH_SIZE,\n",
    ")\n",
    "\n",
    "qgan.compile(\n",
    "    d_optimizer = D_OPTIMIZER,\n",
    "    \n",
    ")"
   ]
  },
  {
   "cell_type": "code",
   "execution_count": 8,
   "id": "fd9411cb",
   "metadata": {},
   "outputs": [],
   "source": [
    "#os.mkdir(\"models/\")\n",
    "time = datetime.datetime.now().strftime(\"%d%m.%H%M\")\n",
    "model_path = f\"models/models_{time}\"\n",
    "os.mkdir(model_path)"
   ]
  },
  {
   "cell_type": "code",
   "execution_count": 9,
   "id": "ef92b0aa",
   "metadata": {},
   "outputs": [],
   "source": [
    "import os\n",
    "import numpy as np\n",
    "import json\n",
    "from tensorflow.keras.callbacks import Callback\n",
    "\n",
    "class SaveWeightsAndMetrics(Callback):\n",
    "    def __init__(self, qgan, save_dir=\"checkpoints\", save_weights=True, save_metrics=True):\n",
    "        super().__init__()\n",
    "        self.qgan = qgan   # <-- store GAN object here\n",
    "        self.save_dir = save_dir\n",
    "        self.save_weights = save_weights\n",
    "        self.save_metrics = save_metrics\n",
    "        os.makedirs(save_dir, exist_ok=True)\n",
    "\n",
    "    def on_epoch_end(self, epoch, logs=None):\n",
    "        logs = logs or {}\n",
    "\n",
    "        # Save generator weights\n",
    "        if self.save_weights:\n",
    "            weights_path = os.path.join(self.save_dir, f\"generator_weights_epoch{epoch+1}.npy\")\n",
    "            weights_list = [w.numpy() for w in self.qgan.generator_weights]\n",
    "            np.save(weights_path, weights_list)\n",
    "            print(f\"✅ Saved generator weights to {weights_path}\")\n",
    "\n",
    "        # Save metrics\n",
    "        if self.save_metrics:\n",
    "            metrics_path = os.path.join(self.save_dir, f\"metrics_epoch{epoch+1}.json\")\n",
    "            with open(metrics_path, \"w\") as f:\n",
    "                json.dump({k: float(v) for k, v in logs.items()}, f, indent=2)\n",
    "            print(f\"📊 Saved metrics to {metrics_path}\")\n"
   ]
  },
  {
   "cell_type": "code",
   "execution_count": 10,
   "id": "06dcf091",
   "metadata": {},
   "outputs": [],
   "source": [
    "callbacks = [\n",
    "    SaveWeightsAndMetrics(qgan=qgan, save_dir=f\"{model_path}/logs\")\n",
    "]"
   ]
  },
  {
   "cell_type": "code",
   "execution_count": 11,
   "id": "b5c06d7d",
   "metadata": {},
   "outputs": [],
   "source": [
    "feature_data, real_data = train_data\n",
    "feature_data, real_data = shuffle_data(feature_data,real_data)"
   ]
  },
  {
   "cell_type": "code",
   "execution_count": null,
   "id": "a18c1f34",
   "metadata": {},
   "outputs": [],
   "source": [
    "qgan.fit(\n",
    "    feature_data=feature_data.astype(np.float32),\n",
    "    real_data=real_data,\n",
    "    epochs=EPOCHS,\n",
    "    batch_size=BATCH_SIZE,\n",
    "    callbacks=callbacks\n",
    ")"
   ]
  },
  {
   "cell_type": "code",
   "execution_count": null,
   "id": "ec8ebe1f",
   "metadata": {},
   "outputs": [],
   "source": []
  },
  {
   "cell_type": "code",
   "execution_count": null,
   "id": "659a1acc",
   "metadata": {},
   "outputs": [],
   "source": []
  },
  {
   "cell_type": "code",
   "execution_count": null,
   "id": "55e0ae05",
   "metadata": {},
   "outputs": [
    {
     "name": "stdout",
     "output_type": "stream",
     "text": [
      "Generator weights saved to models/models_0110.1410/generator.npy\n"
     ]
    }
   ],
   "source": [
    "qgan.generator_save(f\"{model_path}/generator.npy\") \n",
    "qgan.discriminator.save(f\"{model_path}/discriminator.keras\")"
   ]
  },
  {
   "cell_type": "code",
   "execution_count": null,
   "id": "65791b51",
   "metadata": {},
   "outputs": [],
   "source": []
  }
 ],
 "metadata": {
  "kernelspec": {
   "display_name": ".venv",
   "language": "python",
   "name": "python3"
  },
  "language_info": {
   "codemirror_mode": {
    "name": "ipython",
    "version": 3
   },
   "file_extension": ".py",
   "mimetype": "text/x-python",
   "name": "python",
   "nbconvert_exporter": "python",
   "pygments_lexer": "ipython3",
   "version": "3.10.9"
  }
 },
 "nbformat": 4,
 "nbformat_minor": 5
}
