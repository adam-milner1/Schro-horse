{
 "cells": [
  {
   "cell_type": "code",
   "execution_count": 1,
   "id": "21c54040",
   "metadata": {},
   "outputs": [],
   "source": [
    "import tensorflow as tf\n",
    "import numpy as np\n",
    "import matplotlib.pyplot as plt\n",
    "import os\n",
    "from tensorflow.keras import (\n",
    "    layers,\n",
    "    models,\n",
    "    callbacks,\n",
    "    losses,\n",
    "    utils,\n",
    "    metrics,\n",
    "    optimizers,\n",
    ")\n",
    "from functions.model import GAN\n",
    "import datetime\n",
    "import json\n",
    "from functions.data_preperation import process_model_data\n",
    "from functions.q_generator import two_qubit_circuit_tickers\n",
    "from functions.model_test import load_metrics, get_latest_model_path"
   ]
  },
  {
   "cell_type": "code",
   "execution_count": null,
   "id": "07fb6da1",
   "metadata": {},
   "outputs": [],
   "source": [
    "model_directory =\"models/\"\n",
    "latest_model_path = get_latest_model_path(model_directory)\n",
    "load_metrics(latest_model_path)"
   ]
  },
  {
   "cell_type": "code",
   "execution_count": null,
   "id": "72b31740",
   "metadata": {},
   "outputs": [],
   "source": [
    "#create qiskit circuit\n",
    "#load data and trained weights into qiskit circuit\n",
    "#calculate metrics for real vs generated outputs\n",
    "#attach ticker and date back onto outputs\n",
    "#plot graph of real daily price vs generated daily price\n",
    "\n",
    "#plot distribution vs other tickers when we have it\n"
   ]
  }
 ],
 "metadata": {
  "kernelspec": {
   "display_name": "venv",
   "language": "python",
   "name": "python3"
  },
  "language_info": {
   "codemirror_mode": {
    "name": "ipython",
    "version": 3
   },
   "file_extension": ".py",
   "mimetype": "text/x-python",
   "name": "python",
   "nbconvert_exporter": "python",
   "pygments_lexer": "ipython3",
   "version": "3.13.0"
  }
 },
 "nbformat": 4,
 "nbformat_minor": 5
}
